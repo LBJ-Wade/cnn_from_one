{
  "nbformat": 4,
  "nbformat_minor": 0,
  "metadata": {
    "colab": {
      "name": "02_try_batch_normalization.ipynb",
      "version": "0.3.2",
      "provenance": [],
      "collapsed_sections": []
    },
    "kernelspec": {
      "name": "python3",
      "display_name": "Python 3"
    },
    "accelerator": "GPU"
  },
  "cells": [
    {
      "cell_type": "markdown",
      "metadata": {
        "id": "FbwBUKbWQ4l2",
        "colab_type": "text"
      },
      "source": [
        "# Try batch normalization\n",
        "\n",
        "### BatchNorm\n",
        "\n",
        "Batch normalization を加えてみる.\n",
        "\n",
        "* Fully connected なら 各ノードの入力を正規化する.\n",
        "* CNN なら channel 毎に空間２次元について統計をとる.\n",
        "\n",
        "https://pytorch.org/docs/stable/nn.html#batchnorm2d\n",
        "\n",
        "```\n",
        "torch.nn.BatchNorm2d(num_features)\n",
        "```\n",
        "\n",
        "`num_features` には channel の数を入れておけばいい.\n",
        "\n",
        "### ReLU の前・後？\n",
        "\n",
        "前らしい\n",
        "\n",
        "\n",
        "### bias は？\n",
        "\n",
        "bias が消されてしまうのでは？ 原論文では Wx に batch normalization を施した後に bias b を足す. \n",
        "\n",
        "PyTorch などのライブラリでは:\n",
        "\n",
        "$$\n",
        "y = \\frac{X - \\mathrm{E}[X]}{\\sqrt{\\mathrm{Var}[X] + \\epsilon}} \\gamma + \\beta\n",
        "$$\n",
        "\n",
        "つまり、元の bias は役立たずになるが、batch normaliztion が新たな（学習する）パラメタ $\\gamma$ と $\\beta$ を持っている (`affine=True`).\n",
        "\n",
        "\n",
        "\n",
        "### momentum\n",
        "\n",
        "統計量（平均・分散）は moving average で行われている。`momentum` はそのパラメタ (`track_running_stats=True`)。\n",
        "\n",
        "\n",
        "### eval 時\n",
        "\n",
        "推論モード `eval()` では E[X]  と Var[Z] は固定される. 学習時の最後の値？\n",
        "\n",
        "\n",
        "\n",
        "### ReLU と max pool\n",
        "\n",
        "MaxPool・ReLU = ReLU・MaxPool なので先に MaxPool した方がちょっと計算量を減らせる. ReLU に限らず、単調増大な activication function なら成り立つ.\n",
        "\n",
        "\n"
      ]
    },
    {
      "cell_type": "code",
      "metadata": {
        "id": "domjbsqgQcRF",
        "colab_type": "code",
        "outputId": "f7f07fc6-2466-4ebd-cbf7-7ced9099ad08",
        "colab": {
          "base_uri": "https://localhost:8080/",
          "height": 68
        }
      },
      "source": [
        "%matplotlib inline\n",
        "import matplotlib.pyplot as plt\n",
        "import numpy as np\n",
        "import math\n",
        "import time\n",
        "import torch\n",
        "import torchvision\n",
        "import torch.nn as nn\n",
        "import torch.nn.functional as F  # F.relu とか\n",
        "\n",
        "print('PyTorch version', torch.__version__)\n",
        "\n",
        "\n",
        "# GPU が使えるなら使う\n",
        "device = torch.device(\"cuda:0\" if torch.cuda.is_available() else \"cpu\")\n",
        "print('Device:', device)\n",
        "\n",
        "if torch.cuda.is_available():\n",
        "  print('GPU:', torch.cuda.get_device_name(0))"
      ],
      "execution_count": 4,
      "outputs": [
        {
          "output_type": "stream",
          "text": [
            "PyTorch version 1.1.0\n",
            "Device: cuda:0\n",
            "GPU: Tesla T4\n"
          ],
          "name": "stdout"
        }
      ]
    },
    {
      "cell_type": "code",
      "metadata": {
        "id": "fweSkNtFQ7mG",
        "colab_type": "code",
        "outputId": "47136c2f-a87f-40d5-ea4e-a75ca64947a8",
        "colab": {
          "base_uri": "https://localhost:8080/",
          "height": 153
        }
      },
      "source": [
        "# データが PIL.Image なので、torch.Tensor に変換する\n",
        "to_tensor = torchvision.transforms.ToTensor()\n",
        "\n",
        "train = torchvision.datasets.MNIST(root='./input', train=True,\n",
        "                                   download=True, transform=to_tensor)\n",
        "test = torchvision.datasets.MNIST(root='./input', train=False,\n",
        "                                  transform=to_tensor)\n",
        "print(train)\n",
        "print(test)"
      ],
      "execution_count": 5,
      "outputs": [
        {
          "output_type": "stream",
          "text": [
            "Dataset MNIST\n",
            "    Number of datapoints: 60000\n",
            "    Root location: ./input\n",
            "    Split: Train\n",
            "Dataset MNIST\n",
            "    Number of datapoints: 10000\n",
            "    Root location: ./input\n",
            "    Split: Test\n"
          ],
          "name": "stdout"
        }
      ]
    },
    {
      "cell_type": "code",
      "metadata": {
        "id": "VT2MkLeXRAhB",
        "colab_type": "code",
        "colab": {}
      },
      "source": [
        "batch_size = 100\n",
        "train_loader = torch.utils.data.DataLoader(train, batch_size=batch_size, shuffle=True)\n",
        "test_loader  = torch.utils.data.DataLoader(test, batch_size=batch_size, shuffle=False)"
      ],
      "execution_count": 0,
      "outputs": []
    },
    {
      "cell_type": "code",
      "metadata": {
        "id": "kQiKH6OERDnK",
        "colab_type": "code",
        "colab": {}
      },
      "source": [
        "class NormNet(nn.Module):\n",
        "    def __init__(self):\n",
        "        # ここでは各レイヤーを定義しているだけ。繋がっていない\n",
        "        # Sequential を使って __init__ 時点でつなぐ流儀もある\n",
        "        super(NormNet, self).__init__()\n",
        "        self.conv1a = nn.Conv2d(1,  16, 3)  # 28x28x1  -> 26x26x16\n",
        "        self.conv1b = nn.Conv2d(16, 16, 3)  # 26x26x16 -> 24x24x16\n",
        "        self.norm1  = nn.BatchNorm2d(16)\n",
        "        self.pool1  = nn.MaxPool2d(2, 2)    # 24x24x16 -> 12x12x16\n",
        "        \n",
        "        self.conv2a = nn.Conv2d(16, 32, 3)  # 12x12x16 -> 10x10x32\n",
        "        self.conv2b = nn.Conv2d(32, 32, 3)  # 10x10x32 -> 8x8x32\n",
        "        self.norm2  = nn.BatchNorm2d(32)\n",
        "        self.pool2  = nn.MaxPool2d(2, 2)    # 8x8x32 -> 4x4x32\n",
        "        self.fc1    = nn.Linear(4 * 4 * 32, 50)  # fully connected -> 50\n",
        "        self.dropout1 = nn.Dropout2d()           # default dropout rate is 0.5\n",
        "        self.fc2      = nn.Linear(50, 10)        # 50 -> 10 number of classes\n",
        "        #self.dropout2 = nn.Dropout2d()\n",
        "\n",
        "    def forward(self, x):\n",
        "        # レイヤーをつなげている\n",
        "        x = F.relu(self.conv1a(x))\n",
        "        x = self.norm1(self.conv1b(x))  # Adding batch normalization\n",
        "        x = F.relu(self.pool1(x))\n",
        "        \n",
        "        x = F.relu(self.conv2a(x))\n",
        "        x = self.norm2(self.conv2b(x))\n",
        "        x = F.relu(self.pool2(x))\n",
        "\n",
        "        x = x.view(-1, 4 * 4 * 32)\n",
        "        x = F.relu(self.fc1(x))\n",
        "        x = self.dropout1(x)\n",
        "\n",
        "        x = self.fc2(x)\n",
        "        #x = self.dropout2(x)\n",
        "\n",
        "        return x"
      ],
      "execution_count": 0,
      "outputs": []
    },
    {
      "cell_type": "code",
      "metadata": {
        "id": "oFyw7jA9PZu-",
        "colab_type": "code",
        "colab": {
          "base_uri": "https://localhost:8080/",
          "height": 425
        },
        "outputId": "5721abc0-e275-490c-ffbb-a97d68327cf0"
      },
      "source": [
        "# Model と 最適化方法\n",
        "model = NormNet()\n",
        "cross_entropy = nn.CrossEntropyLoss()\n",
        "optimizer = torch.optim.Adam(model.parameters(), lr=0.001)\n",
        "\n",
        "model = model.to(device)  # send to GPU if available\n",
        "\n",
        "# 訓練の進行具合を記録\n",
        "def measure_scores(name, loader, history, *, nbatch=100):\n",
        "    loss_sum = 0.0\n",
        "    correct = 0\n",
        "    total = 0\n",
        "    with torch.no_grad():\n",
        "        for i, (images, labels) in enumerate(loader, 0):\n",
        "            # send data to GPU\n",
        "            images = images.to(device)\n",
        "            labels = labels.to(device)\n",
        "        \n",
        "            outputs = model(images)\n",
        "            loss = cross_entropy(outputs, labels)\n",
        "            loss_sum += loss\n",
        "                \n",
        "            _, predicted = torch.max(outputs.data, 1)\n",
        "            total += labels.size(0)\n",
        "            correct += (predicted == labels).sum().item()\n",
        "            \n",
        "            if i + 1 == nbatch:\n",
        "              break\n",
        "\n",
        "    # average loss during the epoch\n",
        "    loss_average = loss_sum / len(train_loader)\n",
        "    accuracy = correct/total\n",
        "    \n",
        "    history[name + '_loss'].append(loss_average)\n",
        "    history[name + '_accuracy'].append(accuracy)\n",
        "            \n",
        "            \n",
        "epochs = 20\n",
        "history = {'train_loss': [], 'test_loss': [],\n",
        "           'train_accuracy': [], 'test_accuracy': []}\n",
        "times_train = []\n",
        "times_test = []\n",
        "\n",
        "for iepoch in range(epochs):\n",
        "    model.train()  # 訓練モード\n",
        "    time_train = 0.0\n",
        "    for i, (images, labels) in enumerate(train_loader, 0): \n",
        "        ts = time.time()\n",
        "        \n",
        "        # send data to GPU\n",
        "        images = images.to(device)\n",
        "        labels = labels.to(device)\n",
        "            \n",
        "        # zero the parameter gradients\n",
        "        optimizer.zero_grad()\n",
        "\n",
        "        # forward + backward + optimize\n",
        "        outputs = model(images)\n",
        "        loss = cross_entropy(outputs, labels)\n",
        "        loss.backward()\n",
        "        optimizer.step()\n",
        "        \n",
        "        te = time.time()\n",
        "        time_train += (te - ts)\n",
        "    \n",
        "    times_train.append(time_train)\n",
        "    \n",
        "    # Measure test accuracy for each epoch\n",
        "    ts = time.time()\n",
        "    \n",
        "    model.eval()  # evaluation モード; dropout しないなど\n",
        "    \n",
        "    measure_scores('train', train_loader, history)    \n",
        "    measure_scores('test', test_loader, history)\n",
        "    \n",
        "    \n",
        "    te = time.time()\n",
        "    times_test.append(te - ts)\n",
        "    \n",
        "    print('Epoch %d: loss %.4e %.4e, Test accuracy %.6f' % (iepoch + 1,\n",
        "          history['train_loss'][-1],\n",
        "          history['test_loss'][-1],\n",
        "          history['test_accuracy'][-1]))\n",
        "\n",
        "    \n",
        "print('Finished Training')\n",
        "print('Training %.2f ± %.2f sec per epoch' % (np.mean(times_train), np.std(times_train)))\n",
        "print('Test evaluation %.4f ± %.4f sec per epoch' % (np.mean(times_test), np.std(times_test)))\n",
        "print('Total %.2f sec' % (np.sum(times_test) + np.sum(times_test)))"
      ],
      "execution_count": 16,
      "outputs": [
        {
          "output_type": "stream",
          "text": [
            "Epoch 1: loss 8.2117e-03 7.3979e-03, Test accuracy 0.985700\n",
            "Epoch 2: loss 5.0034e-03 4.7916e-03, Test accuracy 0.990600\n",
            "Epoch 3: loss 6.2416e-03 6.8877e-03, Test accuracy 0.986600\n",
            "Epoch 4: loss 3.3580e-03 4.1632e-03, Test accuracy 0.991600\n",
            "Epoch 5: loss 2.6394e-03 3.8991e-03, Test accuracy 0.992600\n",
            "Epoch 6: loss 2.9853e-03 3.7700e-03, Test accuracy 0.992600\n",
            "Epoch 7: loss 3.2796e-03 3.7750e-03, Test accuracy 0.993400\n",
            "Epoch 8: loss 1.7224e-03 3.4862e-03, Test accuracy 0.994200\n",
            "Epoch 9: loss 2.2922e-03 4.3474e-03, Test accuracy 0.992900\n",
            "Epoch 10: loss 1.7363e-03 3.5138e-03, Test accuracy 0.993500\n",
            "Epoch 11: loss 2.1384e-03 3.6469e-03, Test accuracy 0.993300\n",
            "Epoch 12: loss 1.9831e-03 4.2876e-03, Test accuracy 0.993500\n",
            "Epoch 13: loss 8.9733e-04 3.2563e-03, Test accuracy 0.993700\n",
            "Epoch 14: loss 6.5818e-04 3.6425e-03, Test accuracy 0.993800\n",
            "Epoch 15: loss 1.3475e-03 4.0888e-03, Test accuracy 0.992900\n",
            "Epoch 16: loss 9.5833e-04 3.6069e-03, Test accuracy 0.993400\n",
            "Epoch 17: loss 1.2136e-03 3.9345e-03, Test accuracy 0.993600\n",
            "Epoch 18: loss 6.9150e-04 3.4932e-03, Test accuracy 0.993700\n",
            "Epoch 19: loss 7.9098e-04 4.0472e-03, Test accuracy 0.993700\n",
            "Epoch 20: loss 9.1680e-04 3.7758e-03, Test accuracy 0.994300\n",
            "Finished Training\n",
            "Training 2.49 ± 0.03 sec per epoch\n",
            "Test evaluation 1.7484 ± 0.0338 sec per epoch\n",
            "Total 69.93 sec\n"
          ],
          "name": "stdout"
        }
      ]
    },
    {
      "cell_type": "markdown",
      "metadata": {
        "id": "7wH74dUbQEui",
        "colab_type": "text"
      },
      "source": [
        "* 学習が早くなった 😀 Epoch 4 にして 99% を超えている\n",
        "\n",
        "\n",
        "* 過学習を防止するというのは本当？理屈がわからないけど.\n",
        "\n",
        "  - 最後の dropout をなくしてみる → うーん... Test accuracy は 99.3% で安定していて loss は上がっていない. しかし train - test 格差は発生してる. ちょっと怪しい. まあ、その辺りは実際の応用毎に確認するということで.\n",
        "\n",
        "\n"
      ]
    },
    {
      "cell_type": "code",
      "metadata": {
        "id": "80_1K7WSGNxx",
        "colab_type": "code",
        "colab": {
          "base_uri": "https://localhost:8080/",
          "height": 295
        },
        "outputId": "e891edf4-200c-43b7-e613-c94a7bd4a139"
      },
      "source": [
        "plt.figure(figsize=(8, 4))\n",
        "plt.subplot(1, 2, 1)\n",
        "plt.title('Loss')\n",
        "plt.xlabel('epochs')\n",
        "plt.plot(history['train_loss'], label='train')\n",
        "plt.plot(history['test_loss'], label='test')\n",
        "plt.legend()\n",
        "\n",
        "plt.subplot(1, 2, 2)\n",
        "plt.title('1 - Accuracy')\n",
        "plt.xlabel('epochs')\n",
        "plt.plot(1 - np.array(history['train_accuracy']))\n",
        "plt.plot(1 - np.array(history['test_accuracy']))\n",
        "plt.show()"
      ],
      "execution_count": 17,
      "outputs": [
        {
          "output_type": "display_data",
          "data": {
            "image/png": "[encoded data removed]",
            "text/plain": [
              "<Figure size 576x288 with 2 Axes>"
            ]
          },
          "metadata": {
            "tags": []
          }
        }
      ]
    },
    {
      "cell_type": "code",
      "metadata": {
        "id": "cXZGL4rlP2km",
        "colab_type": "code",
        "colab": {}
      },
      "source": [
        ""
      ],
      "execution_count": 0,
      "outputs": []
    },
    {
      "cell_type": "markdown",
      "metadata": {
        "id": "n8Xb4eUQGGS1",
        "colab_type": "text"
      },
      "source": [
        "## 参考\n",
        "\n",
        "Example on how to use batch-norm?\n",
        "\n",
        "https://discuss.pytorch.org/t/example-on-how-to-use-batch-norm/216"
      ]
    },
    {
      "cell_type": "markdown",
      "metadata": {
        "id": "DyYtJ4xFP2Ka",
        "colab_type": "text"
      },
      "source": [
        ""
      ]
    }
  ]
}