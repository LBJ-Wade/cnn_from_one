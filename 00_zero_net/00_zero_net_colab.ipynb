{
  "nbformat": 4,
  "nbformat_minor": 0,
  "metadata": {
    "colab": {
      "name": "00_zero_model.ipynb",
      "version": "0.3.2",
      "provenance": [],
      "collapsed_sections": []
    },
    "kernelspec": {
      "name": "python3",
      "display_name": "Python 3"
    },
    "accelerator": "GPU"
  },
  "cells": [
    {
      "cell_type": "markdown",
      "metadata": {
        "id": "qwB1jcZN2m91",
        "colab_type": "text"
      },
      "source": [
        "# Zero model\n",
        "\n",
        "まずはスタート地点として『ゼロから作るDeep Learning』の８章のＣＮＮを PyTorch で実装します。ZeroNet （勝手に命名）\n",
        "\n",
        "* 3 x 3 のフィルターを基本とした VGG-16 の簡略版\n",
        "* conv - conv - pool - conv - conv - pool - fully - dropout - fully - dropout - softmax "
      ]
    },
    {
      "cell_type": "code",
      "metadata": {
        "id": "aAXq5dBZ1zqi",
        "colab_type": "code",
        "outputId": "2ba8d7d1-5e0f-40f1-c880-8f5d3ba98490",
        "colab": {
          "base_uri": "https://localhost:8080/",
          "height": 68
        }
      },
      "source": [
        "%matplotlib inline\n",
        "import matplotlib.pyplot as plt\n",
        "import numpy as np\n",
        "import math\n",
        "import time\n",
        "import torch\n",
        "import torchvision\n",
        "import torch.nn as nn\n",
        "import torch.nn.functional as F  # F.relu とか\n",
        "\n",
        "print('PyTorch version', torch.__version__)\n",
        "\n",
        "\n",
        "# GPU が使えるなら使う\n",
        "device = torch.device(\"cuda:0\" if torch.cuda.is_available() else \"cpu\")\n",
        "print('Device:', device)\n",
        "\n",
        "if torch.cuda.is_available():\n",
        "  print('GPU:', torch.cuda.get_device_name(0))"
      ],
      "execution_count": 14,
      "outputs": [
        {
          "output_type": "stream",
          "text": [
            "PyTorch version 1.1.0\n",
            "Device: cuda:0\n",
            "GPU: Tesla T4\n"
          ],
          "name": "stdout"
        }
      ]
    },
    {
      "cell_type": "markdown",
      "metadata": {
        "id": "Evh8tk7d3MRX",
        "colab_type": "text"
      },
      "source": [
        "## MNIST data"
      ]
    },
    {
      "cell_type": "code",
      "metadata": {
        "id": "ysYYB-Nh2cP7",
        "colab_type": "code",
        "outputId": "d885ae00-227f-48e6-feef-2f564a79b758",
        "colab": {
          "base_uri": "https://localhost:8080/",
          "height": 153
        }
      },
      "source": [
        "# データが PIL.Image なので、torch.Tensor に変換する\n",
        "to_tensor = torchvision.transforms.ToTensor()\n",
        "\n",
        "train = torchvision.datasets.MNIST(root='./input', train=True,\n",
        "                                   download=True, transform=to_tensor)\n",
        "test = torchvision.datasets.MNIST(root='./input', train=False,\n",
        "                                  transform=to_tensor)\n",
        "print(train)\n",
        "print(test)"
      ],
      "execution_count": 15,
      "outputs": [
        {
          "output_type": "stream",
          "text": [
            "Dataset MNIST\n",
            "    Number of datapoints: 60000\n",
            "    Root location: ./input\n",
            "    Split: Train\n",
            "Dataset MNIST\n",
            "    Number of datapoints: 10000\n",
            "    Root location: ./input\n",
            "    Split: Test\n"
          ],
          "name": "stdout"
        }
      ]
    },
    {
      "cell_type": "markdown",
      "metadata": {
        "id": "kEuvzn8F3Tp8",
        "colab_type": "text"
      },
      "source": [
        "## datasets\n",
        "\n",
        "`__len__` と `__getitem__` を持っている。この二つがあれば、`DataLoader` で使えるらしい。\n",
        "\n",
        "```python\n",
        "class MyDataSet(VisionDataset):\n",
        "    def __len__():\n",
        "        pass\n",
        "    \n",
        "    def __getitem__():\n",
        "        pass\n",
        "```\n",
        "\n",
        "\n",
        "\n",
        "```python\n",
        "d = MyDataSet()\n",
        "len(d)      # データ総数\n",
        "X, y = d[i] # feature と label を返す\n",
        "```\n",
        "\n",
        "\n",
        "\n"
      ]
    },
    {
      "cell_type": "code",
      "metadata": {
        "id": "I7hQ3-DM36e_",
        "colab_type": "code",
        "outputId": "ee30f0e2-6837-4219-8c67-dd9baa65321d",
        "colab": {
          "base_uri": "https://localhost:8080/",
          "height": 370
        }
      },
      "source": [
        "img, label = train[0]\n",
        "\n",
        "print('image shape', tuple(img.shape))\n",
        "\n",
        "# 最大値が 255 じゃなくて 1.0 なのでスケール変換はいらない\n",
        "print('max value', torch.max(img).item())\n",
        "\n",
        "plt.figure(figsize=(5,5))\n",
        "plt.title(label)\n",
        "plt.imshow(img[0, :, :], cmap='Greys') # img[channel, x, y] なので channel = 0 を表示\n",
        "plt.show()"
      ],
      "execution_count": 16,
      "outputs": [
        {
          "output_type": "stream",
          "text": [
            "image shape (1, 28, 28)\n",
            "max value 1.0\n"
          ],
          "name": "stdout"
        },
        {
          "output_type": "display_data",
          "data": {
            "image/png": "[encoded data removed]",
            "text/plain": [
              "<Figure size 360x360 with 1 Axes>"
            ]
          },
          "metadata": {
            "tags": []
          }
        }
      ]
    },
    {
      "cell_type": "markdown",
      "metadata": {
        "id": "edLCAGT932rS",
        "colab_type": "text"
      },
      "source": [
        "## DataLoader\n",
        "\n",
        "Mini batch に切り分けてくれる\n"
      ]
    },
    {
      "cell_type": "code",
      "metadata": {
        "id": "y7Wv-VNF35bL",
        "colab_type": "code",
        "colab": {}
      },
      "source": [
        "batch_size = 100\n",
        "train_loader = torch.utils.data.DataLoader(train, batch_size=batch_size, shuffle=True)\n",
        "test_loader  = torch.utils.data.DataLoader(test, batch_size=batch_size, shuffle=False)"
      ],
      "execution_count": 0,
      "outputs": []
    },
    {
      "cell_type": "markdown",
      "metadata": {
        "id": "MjsuHXwVAs7G",
        "colab_type": "text"
      },
      "source": [
        "## ニューラルネットワークを定義"
      ]
    },
    {
      "cell_type": "code",
      "metadata": {
        "id": "p8_6uFP8AXss",
        "colab_type": "code",
        "outputId": "13297d57-2373-4e1c-dd3d-e5846653c645",
        "colab": {
          "base_uri": "https://localhost:8080/",
          "height": 272
        }
      },
      "source": [
        "class ZeroNet(nn.Module):\n",
        "    def __init__(self):\n",
        "        # ここでは各レイヤーを定義しているだけ。繋がっていない\n",
        "        # Sequential を使って __init__ 時点でつなぐ流儀もある\n",
        "        super(ZeroNet, self).__init__()\n",
        "        self.conv1a = nn.Conv2d(1,  16, 3, padding=1)  # 28x28x1 -> 28x28x16\n",
        "        self.conv1b = nn.Conv2d(16, 16, 3, padding=1)  # 28x28x16 -> 28x28x16 \n",
        "        self.pool1  = nn.MaxPool2d(2, 2)               # 28x28x16 -> 14x14x16\n",
        "        self.conv2a = nn.Conv2d(16, 32, 3, padding=1)  # 14x14x16 -> 14x14x32\n",
        "        self.conv2b = nn.Conv2d(32, 32, 3, padding=2)  # 14x14x32 -> 15x15x32\n",
        "        self.pool2  = nn.MaxPool2d(2, 2)               # 15x15x32 -> 8x8x32\n",
        "        self.conv3a = nn.Conv2d(32, 64, 3, padding=1)  # 8x8x32 -> 8x8x64\n",
        "        self.conv3b = nn.Conv2d(64, 64, 3, padding=1)  # 8x8x64 -> 8x8x64\n",
        "        self.pool3  = nn.MaxPool2d(2, 2)               # 8x8x64 -> 4x4x64\n",
        "        self.fc1    = nn.Linear(64 * 4 * 4, 50)        # fully connected -> 50\n",
        "        self.dropout1 = nn.Dropout2d()                 # default dropout rate is 0.5\n",
        "        self.fc2      = nn.Linear(50, 10)              # 50 -> 10 number of classes\n",
        "        self.dropout2 = nn.Dropout2d()\n",
        "\n",
        "    def forward(self, x):\n",
        "        # レイヤーをつなげている\n",
        "        x = F.relu(self.conv1a(x))\n",
        "        x = F.relu(self.conv1b(x))\n",
        "        x = self.pool1(x)\n",
        "        \n",
        "        x = F.relu(self.conv2a(x))\n",
        "        x = F.relu(self.conv2b(x))\n",
        "        x = self.pool2(x)\n",
        "        \n",
        "        x = F.relu(self.conv3a(x))\n",
        "        x = F.relu(self.conv3b(x))\n",
        "        x = self.pool3(x)\n",
        "        \n",
        "        x = x.view(-1, 4 * 4 * 64)\n",
        "        x = F.relu(self.fc1(x))\n",
        "        x = self.dropout1(x)\n",
        "\n",
        "        x = self.fc2(x)\n",
        "        x = self.dropout2(x)\n",
        "\n",
        "        return x"
      ],
      "execution_count": 18,
      "outputs": [
        {
          "output_type": "execute_result",
          "data": {
            "text/plain": [
              "ZeroNet(\n",
              "  (conv1a): Conv2d(1, 16, kernel_size=(3, 3), stride=(1, 1), padding=(1, 1))\n",
              "  (conv1b): Conv2d(16, 16, kernel_size=(3, 3), stride=(1, 1), padding=(1, 1))\n",
              "  (pool1): MaxPool2d(kernel_size=2, stride=2, padding=0, dilation=1, ceil_mode=False)\n",
              "  (conv2a): Conv2d(16, 32, kernel_size=(3, 3), stride=(1, 1), padding=(1, 1))\n",
              "  (conv2b): Conv2d(32, 32, kernel_size=(3, 3), stride=(1, 1), padding=(2, 2))\n",
              "  (pool2): MaxPool2d(kernel_size=2, stride=2, padding=0, dilation=1, ceil_mode=False)\n",
              "  (conv3a): Conv2d(32, 64, kernel_size=(3, 3), stride=(1, 1), padding=(1, 1))\n",
              "  (conv3b): Conv2d(64, 64, kernel_size=(3, 3), stride=(1, 1), padding=(1, 1))\n",
              "  (pool3): MaxPool2d(kernel_size=2, stride=2, padding=0, dilation=1, ceil_mode=False)\n",
              "  (fc1): Linear(in_features=1024, out_features=50, bias=True)\n",
              "  (dropout1): Dropout2d(p=0.5)\n",
              "  (fc2): Linear(in_features=50, out_features=10, bias=True)\n",
              "  (dropout2): Dropout2d(p=0.5)\n",
              ")"
            ]
          },
          "metadata": {
            "tags": []
          },
          "execution_count": 18
        }
      ]
    },
    {
      "cell_type": "markdown",
      "metadata": {
        "id": "oBrdcPRSBE1T",
        "colab_type": "text"
      },
      "source": [
        "## Training\n",
        "最小限のコードは\n",
        "\n",
        "```python\n",
        "epochs = 10\n",
        "\n",
        "for iepoch in range(epochs):\n",
        "    for i, (images, labels) in enumerate(train_loader, 0): \n",
        "        # zero the parameter gradients\n",
        "        optimizer.zero_grad()\n",
        "\n",
        "        # forward + backward + optimize\n",
        "        outputs = model(images)\n",
        "        loss = cross_entropy(outputs, labels)\n",
        "        loss.backward()\n",
        "        optimizer.step()\n",
        " ```"
      ]
    },
    {
      "cell_type": "markdown",
      "metadata": {
        "id": "XBDhMFSlBTr_",
        "colab_type": "text"
      },
      "source": [
        "いろいろ測定と追加する\n",
        "\n",
        "* かかった時間\n",
        "* Loss と Accuracy\n",
        "\n",
        "GPU を使うためには明示的に `to(device)` が必要"
      ]
    },
    {
      "cell_type": "code",
      "metadata": {
        "id": "OtYcQ95EBU6o",
        "colab_type": "code",
        "outputId": "0c530f7c-372a-45f5-9c4b-e4eb553fe04e",
        "colab": {
          "base_uri": "https://localhost:8080/",
          "height": 425
        }
      },
      "source": [
        "# Model と 最適化方法\n",
        "model = ZeroNet()\n",
        "cross_entropy = nn.CrossEntropyLoss()\n",
        "optimizer = torch.optim.Adam(model.parameters(), lr=0.001)\n",
        "\n",
        "model = model.to(device)  # send to GPU if available\n",
        "\n",
        "# 訓練の進行具合を記録\n",
        "def measure_scores(name, loader, history, *, nbatch=100):\n",
        "    loss_sum = 0.0\n",
        "    correct = 0\n",
        "    total = 0\n",
        "    with torch.no_grad():\n",
        "        for i, (images, labels) in enumerate(loader, 0):\n",
        "            # send data to GPU\n",
        "            images = images.to(device)\n",
        "            labels = labels.to(device)\n",
        "        \n",
        "            outputs = model(images)\n",
        "            loss = cross_entropy(outputs, labels)\n",
        "            loss_sum += loss\n",
        "            losses_test.append(loss.item())\n",
        "                \n",
        "            _, predicted = torch.max(outputs.data, 1)\n",
        "            total += labels.size(0)\n",
        "            correct += (predicted == labels).sum().item()\n",
        "            \n",
        "            if i + 1 == nbatch:\n",
        "              break\n",
        "\n",
        "    # average loss during the epoch\n",
        "    loss_average = loss_sum / len(train_loader)\n",
        "    accuracy = correct/total\n",
        "    \n",
        "    history[name + '_loss'].append(loss_average)\n",
        "    history[name + '_accuracy'].append(accuracy)\n",
        "            \n",
        "            \n",
        "epochs = 20\n",
        "history = {'train_loss': [], 'test_loss': [],\n",
        "           'train_accuracy': [], 'test_accuracy': []}\n",
        "\n",
        "for iepoch in range(epochs):\n",
        "    model.train()  # 訓練モード\n",
        "    time_train = 0.0\n",
        "    for i, (images, labels) in enumerate(train_loader, 0): \n",
        "        ts = time.time()\n",
        "        \n",
        "        # send data to GPU\n",
        "        images = images.to(device)\n",
        "        labels = labels.to(device)\n",
        "            \n",
        "        # zero the parameter gradients\n",
        "        optimizer.zero_grad()\n",
        "\n",
        "        # forward + backward + optimize\n",
        "        outputs = model(images)\n",
        "        loss = cross_entropy(outputs, labels)\n",
        "        loss.backward()\n",
        "        optimizer.step()\n",
        "        \n",
        "        te = time.time()\n",
        "        time_train += (te - ts)\n",
        "    \n",
        "    times_train.append(time_train)\n",
        "    \n",
        "    # Measure test accuracy for each epoch\n",
        "    ts = time.time()\n",
        "    \n",
        "    model.eval()  # evaluation モード; dropout しないなど\n",
        "    \n",
        "    measure_scores('train', train_loader, history)    \n",
        "    measure_scores('test', test_loader, history)\n",
        "    \n",
        "    \n",
        "    te = time.time()\n",
        "    times_test.append(te - ts)\n",
        "    \n",
        "    print('Epoch %d: loss %.4e %.4e, Test accuracy %.6f' % (iepoch + 1,\n",
        "          history['train_loss'][-1],\n",
        "          history['test_loss'][-1],\n",
        "          history['test_accuracy'][-1]))\n",
        "\n",
        "    \n",
        "print('Finished Training')\n",
        "print('Training %.2f ± %.2f sec per epoch' % (np.mean(times_train), np.std(times_train)))\n",
        "print('Test evaluation %.4f ± %.4f sec per epoch' % (np.mean(times_test), np.std(times_test)))\n",
        "print('Total %.2f sec' % (np.sum(times_test) + np.sum(times_test)))"
      ],
      "execution_count": 37,
      "outputs": [
        {
          "output_type": "stream",
          "text": [
            "Epoch 1: loss 2.7997e-02 2.6356e-02, Test accuracy 0.972400\n",
            "Epoch 2: loss 1.2067e-02 9.7272e-03, Test accuracy 0.986100\n",
            "Epoch 3: loss 9.4106e-03 8.7298e-03, Test accuracy 0.985900\n",
            "Epoch 4: loss 7.2840e-03 7.3446e-03, Test accuracy 0.988700\n",
            "Epoch 5: loss 6.0206e-03 6.5785e-03, Test accuracy 0.988700\n",
            "Epoch 6: loss 7.8819e-03 6.9845e-03, Test accuracy 0.989100\n",
            "Epoch 7: loss 5.3222e-03 5.8031e-03, Test accuracy 0.990600\n",
            "Epoch 8: loss 3.1463e-03 4.9049e-03, Test accuracy 0.991200\n",
            "Epoch 9: loss 4.8375e-03 5.6565e-03, Test accuracy 0.989600\n",
            "Epoch 10: loss 3.1438e-03 4.5006e-03, Test accuracy 0.993300\n",
            "Epoch 11: loss 4.5520e-03 5.8513e-03, Test accuracy 0.990100\n",
            "Epoch 12: loss 2.4366e-03 4.2349e-03, Test accuracy 0.993400\n",
            "Epoch 13: loss 2.3012e-03 4.4349e-03, Test accuracy 0.992900\n",
            "Epoch 14: loss 2.4307e-03 4.0303e-03, Test accuracy 0.992800\n",
            "Epoch 15: loss 2.4302e-03 4.7802e-03, Test accuracy 0.993200\n",
            "Epoch 16: loss 1.6848e-03 4.2504e-03, Test accuracy 0.993100\n",
            "Epoch 17: loss 2.1489e-03 4.3145e-03, Test accuracy 0.992900\n",
            "Epoch 18: loss 1.1606e-03 3.9967e-03, Test accuracy 0.993500\n",
            "Epoch 19: loss 1.6915e-03 4.5312e-03, Test accuracy 0.993300\n",
            "Epoch 20: loss 1.5995e-03 4.6753e-03, Test accuracy 0.992400\n",
            "Finished Training\n",
            "Training 2.55 ± 0.03 sec per epoch\n",
            "Test evaluation 1.8030 ± 0.0218 sec per epoch\n",
            "Total 144.24 sec\n"
          ],
          "name": "stdout"
        }
      ]
    },
    {
      "cell_type": "code",
      "metadata": {
        "id": "CPW2iVLyUy_2",
        "colab_type": "code",
        "colab": {}
      },
      "source": [
        ""
      ],
      "execution_count": 0,
      "outputs": []
    },
    {
      "cell_type": "markdown",
      "metadata": {
        "id": "V4l4sXVKC4NQ",
        "colab_type": "text"
      },
      "source": [
        "CPU mode Google collaboratory\n",
        "\n",
        "### CPU\n",
        "\n",
        "Google Colaboratory\n",
        "```\n",
        "Training 107.62 ± 1.49 sec per epoch\n",
        "```\n",
        "\n",
        "### GPU\n",
        "\n",
        "Google Colaboratory Tesla T4\n",
        "\n",
        "```\n",
        "Training 2.55 ± 0.03 sec per epoch\n",
        "Test evaluation 1.8030 ± 0.0218 sec per epoch\n",
        "```\n"
      ]
    },
    {
      "cell_type": "code",
      "metadata": {
        "id": "0rHDpFdaC0OP",
        "colab_type": "code",
        "colab": {
          "base_uri": "https://localhost:8080/",
          "height": 295
        },
        "outputId": "29c69d13-5c35-4cfd-8567-e745f08f8b98"
      },
      "source": [
        "plt.figure(figsize=(8, 4))\n",
        "plt.subplot(1, 2, 1)\n",
        "plt.title('Loss')\n",
        "plt.xlabel('epochs')\n",
        "plt.plot(history['train_loss'], label='train')\n",
        "plt.plot(history['test_loss'], label='test')\n",
        "plt.legend()\n",
        "\n",
        "plt.subplot(1, 2, 2)\n",
        "plt.title('1 - Accuracy')\n",
        "plt.xlabel('epochs')\n",
        "plt.plot(1 - np.array(history['train_accuracy']))\n",
        "plt.plot(1 - np.array(history['test_accuracy']))\n",
        "plt.show()"
      ],
      "execution_count": 38,
      "outputs": [
        {
          "output_type": "display_data",
          "data": {
            "image/png": "[encoded data removed]",
            "text/plain": [
              "<Figure size 576x288 with 2 Axes>"
            ]
          },
          "metadata": {
            "tags": []
          }
        }
      ]
    },
    {
      "cell_type": "markdown",
      "metadata": {
        "id": "B3HVWKDTEcMg",
        "colab_type": "text"
      },
      "source": [
        "## 疑問点\n",
        "\n",
        "* Same padding って使う意味あるの？メモリと計算量の無駄な気がする\n",
        "* cross_entropy 直前の10個のノードに dropout をかけるのはやり過ぎでは？ しかし、99% accuracy を達成してはいる。"
      ]
    },
    {
      "cell_type": "code",
      "metadata": {
        "id": "6Dz0QhFWciPq",
        "colab_type": "code",
        "colab": {}
      },
      "source": [
        ""
      ],
      "execution_count": 0,
      "outputs": []
    }
  ]
}