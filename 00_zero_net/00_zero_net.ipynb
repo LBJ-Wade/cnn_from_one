{
 "cells": [
  {
   "cell_type": "markdown",
   "metadata": {},
   "source": [
    "# 00 ZeroNet\n",
    "\n",
    "まずはスタート地点として『ゼロから作るDeep Learning』の８章のＣＮＮを PyTorch で実装する。\n",
    "ZeroNet （勝手に命名）\n",
    "\n",
    "* 3 x 3 のフィルターを基本とした VGG-16 の簡略版\n",
    "* conv - conv - pool - conv - conv - pool - fully - dropout - fully - dropout - softmax "
   ]
  },
  {
   "cell_type": "code",
   "execution_count": 6,
   "metadata": {},
   "outputs": [
    {
     "name": "stdout",
     "output_type": "stream",
     "text": [
      "PyTorch version 1.1.0\n",
      "GPU available:  True\n",
      "GPU: Quadro K620\n"
     ]
    }
   ],
   "source": [
    "%matplotlib inline\n",
    "import matplotlib.pyplot as plt\n",
    "import numpy as np\n",
    "import math\n",
    "import time\n",
    "import torch\n",
    "import torchvision\n",
    "import torch.nn as nn\n",
    "import torch.nn.functional as F  # F.relu とか\n",
    "\n",
    "print('PyTorch version', torch.__version__)\n",
    "\n",
    "# GPU が動いていることを確認\n",
    "print('GPU available: ', torch.cuda.is_available())\n",
    "print('GPU:', torch.cuda.get_device_name(0))"
   ]
  },
  {
   "cell_type": "markdown",
   "metadata": {},
   "source": [
    "## MNIST data"
   ]
  },
  {
   "cell_type": "code",
   "execution_count": 7,
   "metadata": {},
   "outputs": [
    {
     "name": "stdout",
     "output_type": "stream",
     "text": [
      "Dataset MNIST\n",
      "    Number of datapoints: 60000\n",
      "    Root location: ../input\n",
      "    Split: Train\n",
      "Dataset MNIST\n",
      "    Number of datapoints: 10000\n",
      "    Root location: ../input\n",
      "    Split: Test\n"
     ]
    }
   ],
   "source": [
    "# torchvision を使って MNIST データをロード。初回はダウンロードする。\n",
    "# デフォルトではデータが PIL.Image なので Tensor に変換する\n",
    "to_tensor = torchvision.transforms.ToTensor()\n",
    "\n",
    "train = torchvision.datasets.MNIST(root='../input', train=True,\n",
    "                                   download=True, transform=to_tensor)\n",
    "test = torchvision.datasets.MNIST(root='../input', train=False,\n",
    "                                  transform=to_tensor)\n",
    "print(train)\n",
    "print(test)"
   ]
  },
  {
   "cell_type": "markdown",
   "metadata": {},
   "source": [
    "## datasets とは\n",
    "\n",
    "`__len__` と `__getitem__` を持っている。この二つがあれば、`DataLoader` で使えるらしい。\n",
    "\n",
    "```python\n",
    "class MyDataSet(VisionDataset):\n",
    "    def __len__():\n",
    "        pass\n",
    "    \n",
    "    def __getitem__():\n",
    "        pass\n",
    "```\n",
    "\n",
    "\n",
    "\n",
    "```python\n",
    "d = MyDataSet()\n",
    "len(d)      # データ総数\n",
    "X, y = d[i] # feature と label を返す\n",
    "```\n",
    "\n",
    "\n"
   ]
  },
  {
   "cell_type": "code",
   "execution_count": 8,
   "metadata": {},
   "outputs": [],
   "source": [
    "# DataLoader\n",
    "# 学習時に mini batch に切り分けてくれる\n",
    "batch_size = 100\n",
    "train_loader = torch.utils.data.DataLoader(train, batch_size=batch_size, shuffle=True)\n",
    "test_loader  = torch.utils.data.DataLoader(test, batch_size=batch_size, shuffle=False)"
   ]
  },
  {
   "cell_type": "code",
   "execution_count": 9,
   "metadata": {},
   "outputs": [
    {
     "name": "stdout",
     "output_type": "stream",
     "text": [
      "image shape (1, 28, 28)\n"
     ]
    },
    {
     "data": {
      "image/png": "[encoded data removed]",
      "text/plain": [
       "<Figure size 360x360 with 1 Axes>"
      ]
     },
     "metadata": {
      "needs_background": "light"
     },
     "output_type": "display_data"
    }
   ],
   "source": [
    "img, label = train[0]\n",
    "\n",
    "print('image shape', tuple(img.shape))\n",
    "\n",
    "plt.figure(figsize=(5,5))\n",
    "plt.title(label)\n",
    "plt.imshow(img[0, :, :], cmap='Greys') # img[channel, x, y] なので channel = 0 を表示\n",
    "plt.show()"
   ]
  },
  {
   "cell_type": "markdown",
   "metadata": {},
   "source": [
    "## CNN\n",
    "\n",
    "ネットワークを定義する"
   ]
  },
  {
   "cell_type": "code",
   "execution_count": 15,
   "metadata": {},
   "outputs": [],
   "source": [
    "class ZeroNet(nn.Module):\n",
    "    def __init__(self):\n",
    "        # ここでは各レイヤーを定義しているだけ。繋がっていない\n",
    "        # Sequential を使って __init__ 時点でつなぐ流儀もある\n",
    "        super(ZeroNet, self).__init__()\n",
    "        self.conv1a = nn.Conv2d(1, 16, 3, padding=1)   # 28x28x1 -> 28x28x16\n",
    "        self.conv1b = nn.Conv2d(16, 16, 3, padding=1)  # 28x28x16 -> 28x28x16 \n",
    "        self.pool1 = nn.MaxPool2d(2, 2)                # 28x28x16 -> 14x14x16\n",
    "        self.conv2a = nn.Conv2d(16, 32, 3, padding=1)  # 14x14x16 -> 14x14x32\n",
    "        self.conv2b = nn.Conv2d(32, 32, 3, padding=2)  # 14x14x32 -> 15x15x32\n",
    "        self.pool2 = nn.MaxPool2d(2, 2)                # 15x15x32 -> 8x8x32\n",
    "        self.conv3a = nn.Conv2d(32, 64, 3, padding=1)  # 8x8x32 -> 8x8x64\n",
    "        self.conv3b = nn.Conv2d(64, 64, 3, padding=1)  # 8x8x64 -> 8x8x64\n",
    "        self.pool3 = nn.MaxPool2d(2, 2)                # 8x8x64 -> 4x4x64\n",
    "        self.fc1 = nn.Linear(64 * 4 * 4, 50)           # fully connected 50\n",
    "        self.dropout1 = nn.Dropout2d()\n",
    "        self.fc2 = nn.Linear(50, 10)                   # 10 is the number of classes\n",
    "        self.dropout2 = nn.Dropout2d()\n",
    "\n",
    "    def forward(self, x):\n",
    "        # レイヤーをつなげている\n",
    "        x = F.relu(self.conv1a(x))\n",
    "        x = F.relu(self.conv1b(x))\n",
    "        x = self.pool1(x)\n",
    "        \n",
    "        x = F.relu(self.conv2a(x))\n",
    "        x = F.relu(self.conv2b(x))\n",
    "        x = self.pool2(x)\n",
    "        \n",
    "        x = F.relu(self.conv3a(x))\n",
    "        x = F.relu(self.conv3b(x))\n",
    "        x = self.pool3(x)\n",
    "        \n",
    "        x = x.view(-1, 4 * 4 * 64)\n",
    "        x = F.relu(self.fc1(x))\n",
    "        x = self.dropout1(x)\n",
    "\n",
    "        x = self.fc2(x)\n",
    "        x = self.dropout2(x)\n",
    "\n",
    "        return x\n",
    "\n",
    "net = ZeroNet()\n",
    "criterion = nn.CrossEntropyLoss()\n",
    "optimizer = torch.optim.Adam(net.parameters(), lr=0.001)\n",
    "#optimizer = torch.optim.SGD(net.parameters(), lr=0.001, momentum=0.9)"
   ]
  },
  {
   "cell_type": "markdown",
   "metadata": {},
   "source": [
    "# Training\n",
    "\n",
    "最小限のコードは\n",
    "\n",
    "```python\n",
    "epochs = 10\n",
    "\n",
    "for iepoch in range(epochs):\n",
    "    for i, (images, labels) in enumerate(train_loader, 0): \n",
    "        # zero the parameter gradients\n",
    "        optimizer.zero_grad()\n",
    "\n",
    "        # forward + backward + optimize\n",
    "        outputs = net(images)\n",
    "        loss = criterion(outputs, labels)\n",
    "        loss.backward()\n",
    "        optimizer.step()\n",
    "```"
   ]
  },
  {
   "cell_type": "markdown",
   "metadata": {},
   "source": [
    "いろいろ測定と追加する\n",
    "\n",
    "* かかった時間\n",
    "* Loss と Accuracy"
   ]
  },
  {
   "cell_type": "code",
   "execution_count": 19,
   "metadata": {},
   "outputs": [
    {
     "name": "stdout",
     "output_type": "stream",
     "text": [
      "Epoch 1: loss 9.2688e-01 9.2007e-01, Test accuracy 5802/10000 58.0200 %\n",
      "Epoch 2: loss 9.1714e-01 9.1914e-01, Test accuracy 5846/10000 58.4600 %\n",
      "Epoch 3: loss 9.2093e-01 9.1034e-01, Test accuracy 5871/10000 58.7100 %\n",
      "Epoch 4: loss 9.1366e-01 9.2463e-01, Test accuracy 5838/10000 58.3800 %\n",
      "Epoch 5: loss 9.0110e-01 9.1915e-01, Test accuracy 5848/10000 58.4800 %\n",
      "Epoch 6: loss 9.0347e-01 9.3018e-01, Test accuracy 5819/10000 58.1900 %\n",
      "Epoch 7: loss 9.0220e-01 9.1368e-01, Test accuracy 5845/10000 58.4500 %\n",
      "Epoch 8: loss 8.9686e-01 9.1771e-01, Test accuracy 5897/10000 58.9700 %\n",
      "Epoch 9: loss 8.9382e-01 9.3365e-01, Test accuracy 5793/10000 57.9300 %\n",
      "Epoch 10: loss 8.9610e-01 9.0464e-01, Test accuracy 5882/10000 58.8200 %\n",
      "Epoch 11: loss 8.9328e-01 9.1197e-01, Test accuracy 5886/10000 58.8600 %\n",
      "Epoch 12: loss 8.8384e-01 9.1752e-01, Test accuracy 5800/10000 58.0000 %\n",
      "Epoch 13: loss 8.9571e-01 8.9531e-01, Test accuracy 5882/10000 58.8200 %\n",
      "Epoch 14: loss 8.8334e-01 9.2406e-01, Test accuracy 5783/10000 57.8300 %\n",
      "Epoch 18: loss 8.8395e-01 9.0308e-01, Test accuracy 5871/10000 58.7100 %\n",
      "Epoch 19: loss 8.7369e-01 9.3067e-01, Test accuracy 5837/10000 58.3700 %\n",
      "Epoch 20: loss 8.7475e-01 8.9846e-01, Test accuracy 5860/10000 58.6000 %\n",
      "Finished Training\n",
      "Training 31.45 ± 1.56 sec per epoch\n",
      "Test evaluation 2.0578 ± 0.0117 sec per epoch\n"
     ]
    }
   ],
   "source": [
    "epochs = 20\n",
    "losses_train = []\n",
    "losses_test = []\n",
    "scores_test = []\n",
    "times_train = []\n",
    "times_test = []\n",
    "\n",
    "for iepoch in range(epochs):\n",
    "    time_train = 0.0\n",
    "    loss_train = 0.0\n",
    "    for i, (images, labels) in enumerate(train_loader, 0): \n",
    "        ts = time.time_ns() / (10 ** 9)\n",
    "            \n",
    "        # zero the parameter gradients\n",
    "        optimizer.zero_grad()\n",
    "\n",
    "        # forward + backward + optimize\n",
    "        outputs = net(images)\n",
    "        loss = criterion(outputs, labels)\n",
    "        loss.backward()\n",
    "        optimizer.step()\n",
    "        \n",
    "        te = time.time_ns() / (10 ** 9)\n",
    "        time_train += (te - ts)\n",
    "\n",
    "        loss_train += loss.item()\n",
    "\n",
    "    # average loss during the epoch\n",
    "    loss_train /= len(train_loader)\n",
    "    losses_train.append(loss_train)\n",
    "    \n",
    "    times_train.append(time_train)\n",
    "    \n",
    "    # For each epoch\n",
    "    ts = time.time_ns() / (10 ** 9)\n",
    "        \n",
    "    loss_test = 0.0\n",
    "    correct = 0\n",
    "    total = 0\n",
    "    with torch.no_grad():\n",
    "        for i, (images, labels) in enumerate(test_loader, 0):\n",
    "            outputs = net(images)\n",
    "            loss = criterion(outputs, labels)\n",
    "            loss_test += loss\n",
    "                \n",
    "            _, predicted = torch.max(outputs.data, 1)\n",
    "            total += labels.size(0)\n",
    "            correct += (predicted == labels).sum().item()\n",
    "    \n",
    "    te = time.time_ns() / (10 ** 9)\n",
    "    times_test.append(te - ts)\n",
    "    \n",
    "    loss_test /= len(test_loader)\n",
    "    losses_test.append(loss_test)\n",
    "    scores_test.append(100 * correct / total)\n",
    "    \n",
    "\n",
    "    print('Epoch %d: loss %.4e %.4e, Test accuracy %d/%d %.4f %%' %\n",
    "          (iepoch + 1, loss_train, loss_test,\n",
    "           correct, total, (100 * correct / total)))\n",
    "\n",
    "    \n",
    "print('Finished Training')\n",
    "print('Training %.2f ± %.2f sec per epoch' % (np.mean(times_train), np.std(times_train)))\n",
    "print('Test evaluation %.4f ± %.4f sec per epoch' % (np.mean(times_test), np.std(times_test)))"
   ]
  },
  {
   "cell_type": "code",
   "execution_count": null,
   "metadata": {},
   "outputs": [],
   "source": [
    "plt.figure(figsize=(8, 4))\n",
    "plt.subplot(1, 2, 1)\n",
    "plt.title('Loss')\n",
    "plt.xlabel('epochs')\n",
    "plt.plot(losses_train, label='train')\n",
    "plt.plot(losses_test, label='test')\n",
    "plt.legend()\n",
    "\n",
    "plt.subplot(1, 2, 2)\n",
    "plt.title('Accuracy')\n",
    "plt.xlabel('epochs')\n",
    "plt.plot(scores_test, label='train')\n"
   ]
  },
  {
   "cell_type": "markdown",
   "metadata": {},
   "source": [
    "CPU\n",
    "\n",
    "\n"
   ]
  }
 ],
 "metadata": {
  "kernelspec": {
   "display_name": "Python 3",
   "language": "python",
   "name": "python3"
  },
  "language_info": {
   "codemirror_mode": {
    "name": "ipython",
    "version": 3
   },
   "file_extension": ".py",
   "mimetype": "text/x-python",
   "name": "python",
   "nbconvert_exporter": "python",
   "pygments_lexer": "ipython3",
   "version": "3.7.1"
  }
 },
 "nbformat": 4,
 "nbformat_minor": 2
}
