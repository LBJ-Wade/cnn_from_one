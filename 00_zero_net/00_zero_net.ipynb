{
 "cells": [
  {
   "cell_type": "markdown",
   "metadata": {},
   "source": [
    "# 00 ZeroNet\n",
    "\n",
    "まずはスタート地点として『ゼロから作るDeep Learning』の８章のＣＮＮを PyTorch で実装する。\n",
    "ZeroNet （勝手に命名）"
   ]
  },
  {
   "cell_type": "code",
   "execution_count": 1,
   "metadata": {},
   "outputs": [
    {
     "name": "stdout",
     "output_type": "stream",
     "text": [
      "PyTorch version 1.1.0\n",
      "GPU available:  True\n",
      "GPU: Quadro K620\n"
     ]
    }
   ],
   "source": [
    "%matplotlib inline\n",
    "import matplotlib.pyplot as plt\n",
    "import numpy as np\n",
    "import math\n",
    "import time\n",
    "import torch\n",
    "import torchvision\n",
    "import torch.nn as nn\n",
    "import torch.nn.functional as F  # F.relu とか\n",
    "\n",
    "print('PyTorch version', torch.__version__)\n",
    "\n",
    "# GPU が動いていることを確認\n",
    "print('GPU available: ', torch.cuda.is_available())\n",
    "print('GPU:', torch.cuda.get_device_name(0))"
   ]
  },
  {
   "cell_type": "markdown",
   "metadata": {},
   "source": [
    "## MNIST data"
   ]
  },
  {
   "cell_type": "code",
   "execution_count": 2,
   "metadata": {},
   "outputs": [
    {
     "name": "stdout",
     "output_type": "stream",
     "text": [
      "Dataset MNIST\n",
      "    Number of datapoints: 60000\n",
      "    Root location: ../input\n",
      "    Split: Train\n",
      "Dataset MNIST\n",
      "    Number of datapoints: 10000\n",
      "    Root location: ../input\n",
      "    Split: Test\n"
     ]
    }
   ],
   "source": [
    "# torchvision を使って MNIST データをロード。初回はダウンロードする。\n",
    "# デフォルトではデータが PIL.Image なので Tensor に変換する\n",
    "transform = torchvision.transforms.ToTensor()\n",
    "\n",
    "train = torchvision.datasets.MNIST(root='../input', train=True,\n",
    "                                   download=True, transform=transform)\n",
    "test = torchvision.datasets.MNIST(root='../input', train=False,\n",
    "                                  transform=transform)\n",
    "print(train)\n",
    "print(test)"
   ]
  },
  {
   "cell_type": "markdown",
   "metadata": {},
   "source": [
    "## datasets とは\n",
    "\n",
    "`__len__` と `__getitem__` を持っている。この二つがあれば、`DataLoader` で使える。\n",
    "\n",
    "```python\n",
    "class MyDataSet(VisionDataset):\n",
    "    def __len__():\n",
    "        pass\n",
    "    \n",
    "    def __getitem__():\n",
    "        pass\n",
    "```\n",
    "\n",
    "\n",
    "\n",
    "```\n",
    "d = MyDataSet()\n",
    "len(d)      # データ総数\n",
    "X, y = d[i] # feature と label を返す\n",
    "```\n",
    "\n",
    "\n"
   ]
  },
  {
   "cell_type": "code",
   "execution_count": 3,
   "metadata": {},
   "outputs": [],
   "source": [
    "# DataLoader\n",
    "# 学習時に mini batch に切り分けてくれる\n",
    "batch_size = 64\n",
    "train_loader = torch.utils.data.DataLoader(train, batch_size=batch_size, shuffle=True)\n",
    "test_loader  = torch.utils.data.DataLoader(test, batch_size=batch_size,\n",
    "                                           shuffle=False, num_workers=2)"
   ]
  },
  {
   "cell_type": "code",
   "execution_count": 4,
   "metadata": {},
   "outputs": [
    {
     "name": "stdout",
     "output_type": "stream",
     "text": [
      "image shape (1, 28, 28)\n"
     ]
    },
    {
     "data": {
      "image/png": "[encoded data removed]",
      "text/plain": [
       "<Figure size 360x360 with 1 Axes>"
      ]
     },
     "metadata": {
      "needs_background": "light"
     },
     "output_type": "display_data"
    }
   ],
   "source": [
    "img, label = train[0]\n",
    "\n",
    "print('image shape', tuple(img.shape))\n",
    "\n",
    "plt.figure(figsize=(5,5))\n",
    "plt.title(label)\n",
    "plt.imshow(img[0, :, :], cmap='Greys') # img[channel, x, y] なので channel = 0 を表示\n",
    "plt.show()"
   ]
  },
  {
   "cell_type": "markdown",
   "metadata": {},
   "source": [
    "## CNN\n",
    "\n",
    "ネットワークを定義する"
   ]
  },
  {
   "cell_type": "code",
   "execution_count": 5,
   "metadata": {},
   "outputs": [],
   "source": [
    "class ZeroNet(nn.Module):\n",
    "    def __init__(self):\n",
    "        # ここでは各レイヤーを定義しているだけ。繋がっていない\n",
    "        # Sequential を使って __init__ 時点でつなぐ流儀もある\n",
    "        super(ZeroNet, self).__init__()\n",
    "        self.conv1 = nn.Conv2d(1, 32, 3)  # 28x28x32 -> 26x26x32\n",
    "        self.conv2 = nn.Conv2d(32, 64, 3) # 26x26x64 -> 24x24x64 \n",
    "        self.pool = nn.MaxPool2d(2, 2)    # 24x24x64 -> 12x12x64\n",
    "        self.dropout1 = nn.Dropout2d()\n",
    "        self.fc1 = nn.Linear(12 * 12 * 64, 128)\n",
    "        self.dropout2 = nn.Dropout2d()\n",
    "        self.fc2 = nn.Linear(128, 10)\n",
    "\n",
    "    def forward(self, x):\n",
    "        # レイヤーをつなげている\n",
    "        x = F.relu(self.conv1(x))\n",
    "        x = self.pool(F.relu(self.conv2(x)))\n",
    "        x = self.dropout1(x)\n",
    "        x = x.view(-1, 12 * 12 * 64)\n",
    "        x = F.relu(self.fc1(x))\n",
    "        x = self.dropout2(x)\n",
    "        x = self.fc2(x)\n",
    "        return x\n",
    "\n",
    "net = ZeroNet()\n",
    "criterion = nn.CrossEntropyLoss()\n",
    "optimizer = torch.optim.SGD(net.parameters(), lr=0.001, momentum=0.9)"
   ]
  },
  {
   "cell_type": "markdown",
   "metadata": {},
   "source": [
    "# Training\n",
    "\n",
    "ごちゃごちゃするのでまずは最小限のコード"
   ]
  },
  {
   "cell_type": "code",
   "execution_count": null,
   "metadata": {},
   "outputs": [
    {
     "name": "stdout",
     "output_type": "stream",
     "text": [
      "Epoch 1\n",
      "Epoch 2\n",
      "Epoch 3\n",
      "Epoch 4\n",
      "Epoch 5\n",
      "Epoch 6\n",
      "Epoch 7\n",
      "Epoch 8\n",
      "Epoch 9\n"
     ]
    }
   ],
   "source": [
    "epochs = 10\n",
    "\n",
    "for iepoch in range(epochs):\n",
    "    print('Epoch', iepoch + 1)    \n",
    "    for i, (images, labels) in enumerate(train_loader, 0): \n",
    "        # zero the parameter gradients\n",
    "        optimizer.zero_grad()\n",
    "\n",
    "        # forward + backward + optimize\n",
    "        outputs = net(images)\n",
    "        loss = criterion(outputs, labels)\n",
    "        loss.backward()\n",
    "        optimizer.step()\n",
    "\n",
    "print('Finished Training')"
   ]
  },
  {
   "cell_type": "markdown",
   "metadata": {},
   "source": [
    "いろいろ測定と追加する\n",
    "\n",
    "* かかった時間\n",
    "* Loss と Accuracy"
   ]
  },
  {
   "cell_type": "code",
   "execution_count": null,
   "metadata": {},
   "outputs": [
    {
     "name": "stdout",
     "output_type": "stream",
     "text": [
      "Epoch 1: loss 9e-02 1.024740e-01, Test accuracy 9717/10000 97.1700\n",
      "Epoch 2: loss 9e-02 1.015915e-01, Test accuracy 9687/10000 96.8700\n",
      "Epoch 3: loss 8e-02 9.587644e-02, Test accuracy 9701/10000 97.0100\n",
      "Epoch 4: loss 8e-02 9.365942e-02, Test accuracy 9723/10000 97.2300\n",
      "Epoch 5: loss 8e-02 8.900966e-02, Test accuracy 9734/10000 97.3400\n"
     ]
    }
   ],
   "source": [
    "epochs = 10\n",
    "losses_train = []\n",
    "losses_test = []\n",
    "scores_test = []\n",
    "times_train = []\n",
    "times_test = []\n",
    "\n",
    "for iepoch in range(epochs):\n",
    "    time_train = 0.0\n",
    "    loss_train = 0.0\n",
    "    for i, (images, labels) in enumerate(train_loader, 0): \n",
    "        ts = time.time_ns() / (10 ** 9)\n",
    "            \n",
    "        # zero the parameter gradients\n",
    "        optimizer.zero_grad()\n",
    "\n",
    "        # forward + backward + optimize\n",
    "        outputs = net(images)\n",
    "        loss = criterion(outputs, labels)\n",
    "        loss.backward()\n",
    "        optimizer.step()\n",
    "        \n",
    "        te = time.time_ns() / (10 ** 9)\n",
    "        time_train += (te - ts)\n",
    "\n",
    "        # print statistics\n",
    "        loss_train += loss.item()\n",
    "\n",
    "    # average loss during the epoch\n",
    "    loss_train /= len(train_loader)\n",
    "    losses_train.append(loss_train)\n",
    "    \n",
    "    times_train.append(time_train)\n",
    "    \n",
    "    # For each epoch\n",
    "    ts = time.time_ns() / (10 ** 9)\n",
    "        \n",
    "    loss_test = 0.0\n",
    "    correct = 0\n",
    "    total = 0\n",
    "    with torch.no_grad():\n",
    "        for i, (images, labels) in enumerate(test_loader, 0):\n",
    "            outputs = net(images)\n",
    "            loss = criterion(outputs, labels)\n",
    "            loss_test += loss\n",
    "                \n",
    "            _, predicted = torch.max(outputs.data, 1)\n",
    "            total += labels.size(0)\n",
    "            correct += (predicted == labels).sum().item()\n",
    "    \n",
    "    loss_test /= len(test_loader)\n",
    "    losses_test.append(loss_test)\n",
    "    scores_test.append(100 * correct / total)\n",
    "\n",
    "    print('Epoch %d: loss %.e %e, Test accuracy %d/%d %.4f' %\n",
    "          (iepoch + 1, loss_train, loss_test,\n",
    "           correct, total, (100 * correct / total)))\n",
    "\n",
    "    \n",
    "print('Finished Training')\n",
    "print('Training %.2f ± %.2f sec per epoch', np.mean(times_train), np.std(times_train))\n",
    "print('Test evaluation %.2f ± %.2f sec per epoch', np.mean(times_test), np.std(times_test))"
   ]
  },
  {
   "cell_type": "code",
   "execution_count": 19,
   "metadata": {},
   "outputs": [
    {
     "ename": "NameError",
     "evalue": "name 'scores_test' is not defined",
     "output_type": "error",
     "traceback": [
      "\u001b[0;31m---------------------------------------------------------------------------\u001b[0m",
      "\u001b[0;31mNameError\u001b[0m                                 Traceback (most recent call last)",
      "\u001b[0;32m<ipython-input-19-2c3e4c8fcbd0>\u001b[0m in \u001b[0;36m<module>\u001b[0;34m\u001b[0m\n\u001b[1;32m     10\u001b[0m \u001b[0mplt\u001b[0m\u001b[0;34m.\u001b[0m\u001b[0mtitle\u001b[0m\u001b[0;34m(\u001b[0m\u001b[0;34m'Accuracy'\u001b[0m\u001b[0;34m)\u001b[0m\u001b[0;34m\u001b[0m\u001b[0;34m\u001b[0m\u001b[0m\n\u001b[1;32m     11\u001b[0m \u001b[0mplt\u001b[0m\u001b[0;34m.\u001b[0m\u001b[0mxlabel\u001b[0m\u001b[0;34m(\u001b[0m\u001b[0;34m'epochs'\u001b[0m\u001b[0;34m)\u001b[0m\u001b[0;34m\u001b[0m\u001b[0;34m\u001b[0m\u001b[0m\n\u001b[0;32m---> 12\u001b[0;31m \u001b[0mplt\u001b[0m\u001b[0;34m.\u001b[0m\u001b[0mplot\u001b[0m\u001b[0;34m(\u001b[0m\u001b[0mscores_test\u001b[0m\u001b[0;34m,\u001b[0m \u001b[0mlabel\u001b[0m\u001b[0;34m=\u001b[0m\u001b[0;34m'train'\u001b[0m\u001b[0;34m)\u001b[0m\u001b[0;34m\u001b[0m\u001b[0;34m\u001b[0m\u001b[0m\n\u001b[0m",
      "\u001b[0;31mNameError\u001b[0m: name 'scores_test' is not defined"
     ]
    },
    {
     "data": {
      "image/png": "[encoded data removed]",
      "text/plain": [
       "<Figure size 576x288 with 2 Axes>"
      ]
     },
     "metadata": {
      "needs_background": "light"
     },
     "output_type": "display_data"
    }
   ],
   "source": [
    "plt.figure(figsize=(8, 4))\n",
    "plt.subplot(1, 2, 1)\n",
    "plt.title('Loss')\n",
    "plt.xlabel('epochs')\n",
    "plt.plot(losses_train, label='train')\n",
    "plt.plot(losses_test, label='test')\n",
    "plt.legend()\n",
    "\n",
    "plt.subplot(1, 2, 2)\n",
    "plt.title('Accuracy')\n",
    "plt.xlabel('epochs')\n",
    "plt.plot(scores_test, label='train')\n"
   ]
  },
  {
   "cell_type": "markdown",
   "metadata": {},
   "source": [
    "CPU\n",
    "\n",
    "\n"
   ]
  }
 ],
 "metadata": {
  "kernelspec": {
   "display_name": "Python 3",
   "language": "python",
   "name": "python3"
  },
  "language_info": {
   "codemirror_mode": {
    "name": "ipython",
    "version": 3
   },
   "file_extension": ".py",
   "mimetype": "text/x-python",
   "name": "python",
   "nbconvert_exporter": "python",
   "pygments_lexer": "ipython3",
   "version": "3.7.1"
  }
 },
 "nbformat": 4,
 "nbformat_minor": 2
}
