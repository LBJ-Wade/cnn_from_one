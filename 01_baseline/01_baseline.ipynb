{
  "nbformat": 4,
  "nbformat_minor": 0,
  "metadata": {
    "colab": {
      "name": "01_baseline.ipynb",
      "version": "0.3.2",
      "provenance": [],
      "collapsed_sections": []
    },
    "kernelspec": {
      "name": "python3",
      "display_name": "Python 3"
    },
    "accelerator": "GPU"
  },
  "cells": [
    {
      "cell_type": "markdown",
      "metadata": {
        "id": "6EbqJyEeTfEo",
        "colab_type": "text"
      },
      "source": [
        "# Baseline model\n",
        "\n",
        "1. Same padding をやめて valid に\n",
        "  * その結果、画像が小さくなってしまったので Conv を３段から２段に\n",
        " \n",
        "2. ~最後の dropout をなくす~\n",
        "\n",
        "\n",
        "## 結果\n",
        "\n",
        "* Conv を一段減らして 6 から 4 にしても精度はそのままだった.\n",
        "* ただしDropout をひとつにしたら overfitting になった.  乱暴な dropout は精度を落とさず、overfitting を抑えていた"
      ]
    },
    {
      "cell_type": "code",
      "metadata": {
        "id": "cIpR1egsSC-h",
        "colab_type": "code",
        "outputId": "1ea960e3-32e7-42ff-a870-a9f6a0604164",
        "colab": {
          "base_uri": "https://localhost:8080/",
          "height": 68
        }
      },
      "source": [
        "%matplotlib inline\n",
        "import matplotlib.pyplot as plt\n",
        "import numpy as np\n",
        "import math\n",
        "import time\n",
        "import torch\n",
        "import torchvision\n",
        "import torch.nn as nn\n",
        "import torch.nn.functional as F  # F.relu とか\n",
        "\n",
        "print('PyTorch version', torch.__version__)\n",
        "\n",
        "\n",
        "# GPU が使えるなら使う\n",
        "device = torch.device(\"cuda:0\" if torch.cuda.is_available() else \"cpu\")\n",
        "print('Device:', device)\n",
        "\n",
        "if torch.cuda.is_available():\n",
        "  print('GPU:', torch.cuda.get_device_name(0))"
      ],
      "execution_count": 0,
      "outputs": [
        {
          "output_type": "stream",
          "text": [
            "PyTorch version 1.1.0\n",
            "Device: cuda:0\n",
            "GPU: Tesla T4\n"
          ],
          "name": "stdout"
        }
      ]
    },
    {
      "cell_type": "markdown",
      "metadata": {
        "id": "NfA25R1WgSPc",
        "colab_type": "text"
      },
      "source": [
        "## MNIST data"
      ]
    },
    {
      "cell_type": "code",
      "metadata": {
        "id": "zGtVvtRUSLmN",
        "colab_type": "code",
        "outputId": "06a8804e-d01f-4d65-a6b5-8b0ade43c689",
        "colab": {
          "base_uri": "https://localhost:8080/",
          "height": 411
        }
      },
      "source": [
        "# データが PIL.Image なので、torch.Tensor に変換する\n",
        "to_tensor = torchvision.transforms.ToTensor()\n",
        "\n",
        "train = torchvision.datasets.MNIST(root='./input', train=True,\n",
        "                                   download=True, transform=to_tensor)\n",
        "test = torchvision.datasets.MNIST(root='./input', train=False,\n",
        "                                  transform=to_tensor)\n",
        "print(train)\n",
        "print(test)"
      ],
      "execution_count": 0,
      "outputs": [
        {
          "output_type": "stream",
          "text": [
            "\r0it [00:00, ?it/s]"
          ],
          "name": "stderr"
        },
        {
          "output_type": "stream",
          "text": [
            "Downloading http://yann.lecun.com/exdb/mnist/train-images-idx3-ubyte.gz to ./input/MNIST/raw/train-images-idx3-ubyte.gz\n"
          ],
          "name": "stdout"
        },
        {
          "output_type": "stream",
          "text": [
            "9920512it [00:01, 9459521.19it/s]                            \n"
          ],
          "name": "stderr"
        },
        {
          "output_type": "stream",
          "text": [
            "Extracting ./input/MNIST/raw/train-images-idx3-ubyte.gz\n"
          ],
          "name": "stdout"
        },
        {
          "output_type": "stream",
          "text": [
            "  0%|          | 0/28881 [00:00<?, ?it/s]"
          ],
          "name": "stderr"
        },
        {
          "output_type": "stream",
          "text": [
            "Downloading http://yann.lecun.com/exdb/mnist/train-labels-idx1-ubyte.gz to ./input/MNIST/raw/train-labels-idx1-ubyte.gz\n"
          ],
          "name": "stdout"
        },
        {
          "output_type": "stream",
          "text": [
            "32768it [00:00, 138488.28it/s]           \n",
            "  0%|          | 0/1648877 [00:00<?, ?it/s]"
          ],
          "name": "stderr"
        },
        {
          "output_type": "stream",
          "text": [
            "Extracting ./input/MNIST/raw/train-labels-idx1-ubyte.gz\n",
            "Downloading http://yann.lecun.com/exdb/mnist/t10k-images-idx3-ubyte.gz to ./input/MNIST/raw/t10k-images-idx3-ubyte.gz\n"
          ],
          "name": "stdout"
        },
        {
          "output_type": "stream",
          "text": [
            "1654784it [00:00, 2274580.78it/s]                            \n",
            "0it [00:00, ?it/s]"
          ],
          "name": "stderr"
        },
        {
          "output_type": "stream",
          "text": [
            "Extracting ./input/MNIST/raw/t10k-images-idx3-ubyte.gz\n",
            "Downloading http://yann.lecun.com/exdb/mnist/t10k-labels-idx1-ubyte.gz to ./input/MNIST/raw/t10k-labels-idx1-ubyte.gz\n"
          ],
          "name": "stdout"
        },
        {
          "output_type": "stream",
          "text": [
            "8192it [00:00, 52163.43it/s]            \n"
          ],
          "name": "stderr"
        },
        {
          "output_type": "stream",
          "text": [
            "Extracting ./input/MNIST/raw/t10k-labels-idx1-ubyte.gz\n",
            "Processing...\n",
            "Done!\n",
            "Dataset MNIST\n",
            "    Number of datapoints: 60000\n",
            "    Root location: ./input\n",
            "    Split: Train\n",
            "Dataset MNIST\n",
            "    Number of datapoints: 10000\n",
            "    Root location: ./input\n",
            "    Split: Test\n"
          ],
          "name": "stdout"
        }
      ]
    },
    {
      "cell_type": "code",
      "metadata": {
        "id": "bNfavq7DgX7C",
        "colab_type": "code",
        "colab": {}
      },
      "source": [
        "batch_size = 100\n",
        "train_loader = torch.utils.data.DataLoader(train, batch_size=batch_size, shuffle=True)\n",
        "test_loader  = torch.utils.data.DataLoader(test, batch_size=batch_size, shuffle=False)"
      ],
      "execution_count": 0,
      "outputs": []
    },
    {
      "cell_type": "code",
      "metadata": {
        "id": "Zj3Fgst6gqkX",
        "colab_type": "code",
        "colab": {}
      },
      "source": [
        "class BaseNet(nn.Module):\n",
        "    def __init__(self):\n",
        "        # ここでは各レイヤーを定義しているだけ。繋がっていない\n",
        "        # Sequential を使って __init__ 時点でつなぐ流儀もある\n",
        "        super(BaseNet, self).__init__()\n",
        "        self.conv1a = nn.Conv2d(1,  16, 3)  # 28x28x1  -> 26x26x16\n",
        "        self.conv1b = nn.Conv2d(16, 16, 3)  # 26x26x16 -> 24x24x16 \n",
        "        self.pool1  = nn.MaxPool2d(2, 2)    # 24x24x16 -> 12x12x16\n",
        "        self.conv2a = nn.Conv2d(16, 32, 3)  # 12x12x16 -> 10x10x32\n",
        "        self.conv2b = nn.Conv2d(32, 32, 3)  # 10x10x32 -> 8x8x32\n",
        "        self.pool2  = nn.MaxPool2d(2, 2)    # 8x8x32 -> 4x4x32\n",
        "        self.fc1    = nn.Linear(4 * 4 * 32, 50)  # fully connected -> 50\n",
        "        self.dropout1 = nn.Dropout2d()           # default dropout rate is 0.5\n",
        "        self.fc2      = nn.Linear(50, 10)        # 50 -> 10 number of classes\n",
        "        self.dropout2 = nn.Dropout2d()\n",
        "\n",
        "    def forward(self, x):\n",
        "        # レイヤーをつなげている\n",
        "        x = F.relu(self.conv1a(x))\n",
        "        x = F.relu(self.conv1b(x))\n",
        "        x = self.pool1(x)\n",
        "        \n",
        "        x = F.relu(self.conv2a(x))\n",
        "        x = F.relu(self.conv2b(x))\n",
        "        x = self.pool2(x)\n",
        "        \n",
        "        x = x.view(-1, 4 * 4 * 32)\n",
        "        x = F.relu(self.fc1(x))\n",
        "        x = self.dropout1(x)\n",
        "\n",
        "        x = self.fc2(x)\n",
        "        x = self.dropout2(x)\n",
        "\n",
        "        return x"
      ],
      "execution_count": 0,
      "outputs": []
    },
    {
      "cell_type": "code",
      "metadata": {
        "id": "i32RtnR0h0nm",
        "colab_type": "code",
        "outputId": "c29292a0-3dee-4986-8350-812847bb9414",
        "colab": {
          "base_uri": "https://localhost:8080/",
          "height": 425
        }
      },
      "source": [
        "# Model と 最適化方法\n",
        "model = BaseNet()\n",
        "cross_entropy = nn.CrossEntropyLoss()\n",
        "optimizer = torch.optim.Adam(model.parameters(), lr=0.001)\n",
        "\n",
        "model = model.to(device)  # send to GPU if available\n",
        "\n",
        "# 訓練の進行具合を記録\n",
        "def measure_scores(name, loader, history, *, nbatch=100):\n",
        "    loss_sum = 0.0\n",
        "    correct = 0\n",
        "    total = 0\n",
        "    with torch.no_grad():\n",
        "        for i, (images, labels) in enumerate(loader, 0):\n",
        "            # send data to GPU\n",
        "            images = images.to(device)\n",
        "            labels = labels.to(device)\n",
        "        \n",
        "            outputs = model(images)\n",
        "            loss = cross_entropy(outputs, labels)\n",
        "            loss_sum += loss\n",
        "                \n",
        "            _, predicted = torch.max(outputs.data, 1)\n",
        "            total += labels.size(0)\n",
        "            correct += (predicted == labels).sum().item()\n",
        "            \n",
        "            if i + 1 == nbatch:\n",
        "              break\n",
        "\n",
        "    # average loss during the epoch\n",
        "    loss_average = loss_sum / len(train_loader)\n",
        "    accuracy = correct/total\n",
        "    \n",
        "    history[name + '_loss'].append(loss_average)\n",
        "    history[name + '_accuracy'].append(accuracy)\n",
        "            \n",
        "            \n",
        "epochs = 20\n",
        "history = {'train_loss': [], 'test_loss': [],\n",
        "           'train_accuracy': [], 'test_accuracy': []}\n",
        "times_train = []\n",
        "times_test = []\n",
        "\n",
        "for iepoch in range(epochs):\n",
        "    model.train()  # 訓練モード\n",
        "    time_train = 0.0\n",
        "    for i, (images, labels) in enumerate(train_loader, 0): \n",
        "        ts = time.time()\n",
        "        \n",
        "        # send data to GPU\n",
        "        images = images.to(device)\n",
        "        labels = labels.to(device)\n",
        "            \n",
        "        # zero the parameter gradients\n",
        "        optimizer.zero_grad()\n",
        "\n",
        "        # forward + backward + optimize\n",
        "        outputs = model(images)\n",
        "        loss = cross_entropy(outputs, labels)\n",
        "        loss.backward()\n",
        "        optimizer.step()\n",
        "        \n",
        "        te = time.time()\n",
        "        time_train += (te - ts)\n",
        "    \n",
        "    times_train.append(time_train)\n",
        "    \n",
        "    # Measure test accuracy for each epoch\n",
        "    ts = time.time()\n",
        "    \n",
        "    model.eval()  # evaluation モード; dropout しないなど\n",
        "    \n",
        "    measure_scores('train', train_loader, history)    \n",
        "    measure_scores('test', test_loader, history)\n",
        "    \n",
        "    \n",
        "    te = time.time()\n",
        "    times_test.append(te - ts)\n",
        "    \n",
        "    print('Epoch %d: loss %.4e %.4e, Test accuracy %.6f' % (iepoch + 1,\n",
        "          history['train_loss'][-1],\n",
        "          history['test_loss'][-1],\n",
        "          history['test_accuracy'][-1]))\n",
        "\n",
        "    \n",
        "print('Finished Training')\n",
        "print('Training %.2f ± %.2f sec per epoch' % (np.mean(times_train), np.std(times_train)))\n",
        "print('Test evaluation %.4f ± %.4f sec per epoch' % (np.mean(times_test), np.std(times_test)))\n",
        "print('Total %.2f sec' % (np.sum(times_test) + np.sum(times_test)))"
      ],
      "execution_count": 0,
      "outputs": [
        {
          "output_type": "stream",
          "text": [
            "Epoch 1: loss 1.8867e-02 1.6925e-02, Test accuracy 0.974300\n",
            "Epoch 2: loss 1.3331e-02 1.2300e-02, Test accuracy 0.980600\n",
            "Epoch 3: loss 1.0302e-02 9.0464e-03, Test accuracy 0.984100\n",
            "Epoch 4: loss 8.6627e-03 8.9824e-03, Test accuracy 0.985700\n",
            "Epoch 5: loss 6.8187e-03 6.6736e-03, Test accuracy 0.988400\n",
            "Epoch 6: loss 6.6498e-03 6.1399e-03, Test accuracy 0.989800\n",
            "Epoch 7: loss 6.7787e-03 6.7934e-03, Test accuracy 0.989000\n",
            "Epoch 8: loss 5.8660e-03 6.0283e-03, Test accuracy 0.989600\n",
            "Epoch 9: loss 5.4461e-03 6.0495e-03, Test accuracy 0.988200\n",
            "Epoch 10: loss 4.2658e-03 5.5289e-03, Test accuracy 0.990200\n",
            "Epoch 11: loss 4.6534e-03 5.5314e-03, Test accuracy 0.990700\n",
            "Epoch 12: loss 5.1547e-03 6.4433e-03, Test accuracy 0.989100\n",
            "Epoch 13: loss 4.2071e-03 5.0602e-03, Test accuracy 0.991000\n",
            "Epoch 14: loss 4.2180e-03 4.7918e-03, Test accuracy 0.992000\n",
            "Epoch 15: loss 3.2928e-03 4.8483e-03, Test accuracy 0.991200\n",
            "Epoch 16: loss 3.7085e-03 5.2372e-03, Test accuracy 0.991000\n",
            "Epoch 17: loss 2.8822e-03 5.0043e-03, Test accuracy 0.991000\n",
            "Epoch 18: loss 3.2074e-03 4.6656e-03, Test accuracy 0.991300\n",
            "Epoch 19: loss 2.9775e-03 4.3252e-03, Test accuracy 0.992300\n",
            "Epoch 20: loss 3.7221e-03 4.9505e-03, Test accuracy 0.991200\n",
            "Finished Training\n",
            "Training 1.96 ± 0.02 sec per epoch\n",
            "Test evaluation 1.7352 ± 0.0188 sec per epoch\n",
            "Total 69.41 sec\n"
          ],
          "name": "stdout"
        }
      ]
    },
    {
      "cell_type": "code",
      "metadata": {
        "id": "yjWWiuJJh_ll",
        "colab_type": "code",
        "outputId": "b2879d08-39cb-4a7e-a3a3-409bf791fe06",
        "colab": {
          "base_uri": "https://localhost:8080/",
          "height": 295
        }
      },
      "source": [
        "plt.figure(figsize=(8, 4))\n",
        "plt.subplot(1, 2, 1)\n",
        "plt.title('Loss')\n",
        "plt.xlabel('epochs')\n",
        "plt.plot(history['train_loss'], label='train')\n",
        "plt.plot(history['test_loss'], label='test')\n",
        "plt.legend()\n",
        "\n",
        "plt.subplot(1, 2, 2)\n",
        "plt.title('1 - Accuracy')\n",
        "plt.xlabel('epochs')\n",
        "plt.plot(1 - np.array(history['train_accuracy']))\n",
        "plt.plot(1 - np.array(history['test_accuracy']))\n",
        "plt.show()"
      ],
      "execution_count": 0,
      "outputs": [
        {
          "output_type": "display_data",
          "data": {
            "image/png": "[encoded data removed]",
            "text/plain": [
              "<Figure size 576x288 with 2 Axes>"
            ]
          },
          "metadata": {
            "tags": []
          }
        }
      ]
    },
    {
      "cell_type": "markdown",
      "metadata": {
        "id": "VvJiuJEljlgs",
        "colab_type": "text"
      },
      "source": [
        "* 1 dropout では Overfitting の気配がある\n",
        "* 2 dropout だといい感じ"
      ]
    },
    {
      "cell_type": "code",
      "metadata": {
        "id": "zknKddiTkNet",
        "colab_type": "code",
        "colab": {}
      },
      "source": [
        ""
      ],
      "execution_count": 0,
      "outputs": []
    }
  ]
}